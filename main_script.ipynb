{
 "cells": [
  {
   "cell_type": "code",
   "execution_count": null,
   "id": "a4c91c40",
   "metadata": {},
   "outputs": [],
   "source": [
    "import functions_internship as fc"
   ]
  },
  {
   "cell_type": "code",
   "execution_count": 3,
   "id": "69fb10c7",
   "metadata": {},
   "outputs": [],
   "source": [
    "import pandas as pd\n",
    "import numpy as np\n",
    "import geopandas as gpd\n",
    "import matplotlib.pyplot as plt\n",
    "from shapely.geometry import point\n",
    "from glob import glob\n",
    "from scipy.interpolate import griddata\n",
    "import rasterio\n",
    "from rasterio import plot\n",
    "from osgeo import gdal "
   ]
  },
  {
   "cell_type": "code",
   "execution_count": 4,
   "id": "9e9f0aa5",
   "metadata": {},
   "outputs": [],
   "source": [
    "#Import all the csv file from my directory -> this create a list of csv files\n",
    "file_list = glob(\"./Data/02PDS_csv_format/*.csv\")\n"
   ]
  },
  {
   "cell_type": "code",
   "execution_count": 5,
   "id": "5589f736",
   "metadata": {},
   "outputs": [
    {
     "name": "stderr",
     "output_type": "stream",
     "text": [
      "C:\\Users\\caveropa\\AppData\\Local\\Temp/ipykernel_8644/2740672970.py:5: FutureWarning: In a future version of pandas all arguments of DataFrame.drop except for the argument 'labels' will be keyword-only\n",
      "  ID_trip_df= file_list_df.drop('Trip_number', 1)\n"
     ]
    }
   ],
   "source": [
    "# create a column from the name used from csv files. \n",
    "file_list_df=pd.DataFrame(file_list, columns = [\"Trip_number\"])\n",
    "# extract the trip number from the string \n",
    "file_list_df[\"ID_trip\"]=file_list_df[\"Trip_number\"].str.extract(\"(?:.Trip)([0-9]+)\")\n",
    "ID_trip_df= file_list_df.drop('Trip_number', 1)"
   ]
  },
  {
   "cell_type": "code",
   "execution_count": 6,
   "id": "bfdb1885",
   "metadata": {},
   "outputs": [],
   "source": [
    "#The csv files imported are coverted to dataframe format\n",
    "#The function requires the list of the csv files\n",
    "Dredg_Trips_df = fc.list_to_df(file_list)\n"
   ]
  },
  {
   "cell_type": "code",
   "execution_count": null,
   "id": "c70a5652",
   "metadata": {},
   "outputs": [],
   "source": [
    "#This function shows the statistics from a specific column name from all the trips available.\n",
    "# Shows a statistic summary from each column mean/min/max/median/quantiles\n",
    "#the function requires the dataframe from the trips and the column that you are interested\n",
    "HV_summary = ID_trip_df.join(fc.compute_stat(Dredg_Trips_df, 'Hopper Volume(1)'))\n",
    "D_summary = ID_trip_df.join(fc.compute_stat(Dredg_Trips_df, 'Density(1)'))\n",
    "V_summary = ID_trip_df.join(fc.compute_stat(Dredg_Trips_df, 'Velocity(1)'))"
   ]
  },
  {
   "cell_type": "code",
   "execution_count": null,
   "id": "a9da79c1",
   "metadata": {},
   "outputs": [],
   "source": [
    "Botlek_voor= 'Data/03Bathymetry/Botlek_geotiff/A70296459.tif'\n",
    "Botlek_na= 'Data/03Bathymetry/Botlek_geotiff/A70296469.tif'\n",
    "Rivier_voor='Data/03Bathymetry/Sandy area insurvey geotif/A20210120.tif'\n",
    "Rivier_na ='Data/03Bathymetry/Sandy area outsurvey geotif/A70296468.tif'"
   ]
  },
  {
   "cell_type": "code",
   "execution_count": null,
   "id": "aeb87404",
   "metadata": {},
   "outputs": [],
   "source": [
    "\n"
   ]
  },
  {
   "cell_type": "code",
   "execution_count": null,
   "id": "b6f5852e",
   "metadata": {},
   "outputs": [],
   "source": []
  },
  {
   "cell_type": "code",
   "execution_count": 211,
   "id": "9f2191ff",
   "metadata": {},
   "outputs": [],
   "source": [
    "\n",
    "\n"
   ]
  },
  {
   "cell_type": "code",
   "execution_count": 197,
   "id": "d5616cca",
   "metadata": {},
   "outputs": [],
   "source": []
  },
  {
   "cell_type": "code",
   "execution_count": 198,
   "id": "ffc72b6b",
   "metadata": {},
   "outputs": [],
   "source": []
  },
  {
   "cell_type": "code",
   "execution_count": null,
   "id": "b5cbdd27",
   "metadata": {},
   "outputs": [],
   "source": []
  },
  {
   "cell_type": "code",
   "execution_count": null,
   "id": "a6d8ff4a",
   "metadata": {},
   "outputs": [],
   "source": [
    "\n"
   ]
  },
  {
   "cell_type": "code",
   "execution_count": null,
   "id": "ba925d42",
   "metadata": {},
   "outputs": [],
   "source": []
  },
  {
   "cell_type": "code",
   "execution_count": null,
   "id": "83e7ad7b",
   "metadata": {},
   "outputs": [],
   "source": []
  },
  {
   "cell_type": "code",
   "execution_count": null,
   "id": "c1b139dc",
   "metadata": {},
   "outputs": [],
   "source": []
  },
  {
   "cell_type": "code",
   "execution_count": null,
   "id": "4836e96f",
   "metadata": {},
   "outputs": [],
   "source": []
  },
  {
   "cell_type": "code",
   "execution_count": null,
   "id": "fb85ccab",
   "metadata": {},
   "outputs": [],
   "source": []
  }
 ],
 "metadata": {
  "kernelspec": {
   "display_name": "geo_env",
   "language": "python",
   "name": "geo_env"
  },
  "language_info": {
   "codemirror_mode": {
    "name": "ipython",
    "version": 3
   },
   "file_extension": ".py",
   "mimetype": "text/x-python",
   "name": "python",
   "nbconvert_exporter": "python",
   "pygments_lexer": "ipython3",
   "version": "3.9.7"
  }
 },
 "nbformat": 4,
 "nbformat_minor": 5
}
